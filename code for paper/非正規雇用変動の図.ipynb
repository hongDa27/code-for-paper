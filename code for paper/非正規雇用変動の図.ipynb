{
 "cells": [
  {
   "cell_type": "code",
   "execution_count": 1,
   "id": "d1301533",
   "metadata": {},
   "outputs": [],
   "source": [
    "import numpy as np\n",
    "import pandas as pd\n",
    "import matplotlib.pyplot as plt\n",
    "from matplotlib import font_manager\n",
    "%matplotlib inline\n",
    "import warnings\n",
    "from matplotlib import rcParams\n",
    "import seaborn as sns\n",
    "import warnings\n"
   ]
  },
  {
   "cell_type": "code",
   "execution_count": 2,
   "id": "aa05dbbc",
   "metadata": {},
   "outputs": [],
   "source": [
    "pd.set_option('display.max_rows',None)\n",
    "pd.set_option('display.max_columns',None)\n",
    "plt.rcParams['font.family'] = 'Hiragino Sans GB'\n",
    "warnings.filterwarnings('ignore')"
   ]
  },
  {
   "cell_type": "code",
   "execution_count": 3,
   "id": "27815257",
   "metadata": {},
   "outputs": [],
   "source": [
    "fp = font_manager.FontProperties(fname='japanese.ttf')\n",
    "warnings.filterwarnings('ignore')\n",
    "rcParams.FontProperties = fp\n",
    "sns.set_palette(palette=sns.color_palette('hls',7))\n",
    "\n",
    "plt.rcParams['font.family'] = 'Hiragino Sans'"
   ]
  },
  {
   "cell_type": "markdown",
   "id": "8cd31c55",
   "metadata": {},
   "source": [
    "### 『労働力調査』詳細集計年平均による「非正規雇用」の比率の推移\n",
    "\n",
    "https://www.stat.go.jp/data/roudou/longtime/03roudou.html　表９\n"
   ]
  },
  {
   "cell_type": "code",
   "execution_count": 4,
   "id": "1e281fa3",
   "metadata": {},
   "outputs": [],
   "source": [
    "df = pd.read_excel('./lt51 (2).xlsx',sheet_name='男女計')"
   ]
  },
  {
   "cell_type": "code",
   "execution_count": 5,
   "id": "68d5bf25",
   "metadata": {},
   "outputs": [],
   "source": [
    "df = df.iloc[13:,2:8]"
   ]
  },
  {
   "cell_type": "code",
   "execution_count": 6,
   "id": "5bd86ed2",
   "metadata": {},
   "outputs": [],
   "source": [
    "df.columns = ['year','就業者','雇用者','役員を除く雇用者','正規の職員・従業員','非正規の職員・従業員']"
   ]
  },
  {
   "cell_type": "code",
   "execution_count": 7,
   "id": "b31accc3",
   "metadata": {},
   "outputs": [],
   "source": [
    "df.reset_index(drop = 'index',inplace=True)"
   ]
  },
  {
   "cell_type": "code",
   "execution_count": 8,
   "id": "7152082b",
   "metadata": {
    "scrolled": true
   },
   "outputs": [],
   "source": [
    "df1 = df.iloc[:21]"
   ]
  },
  {
   "cell_type": "code",
   "execution_count": 9,
   "id": "212b7608",
   "metadata": {},
   "outputs": [],
   "source": [
    "df2 = df.loc[21:]"
   ]
  },
  {
   "cell_type": "code",
   "execution_count": 10,
   "id": "8633b180",
   "metadata": {},
   "outputs": [],
   "source": [
    "df2.reset_index(drop = 'index',inplace=True)"
   ]
  },
  {
   "cell_type": "code",
   "execution_count": 11,
   "id": "7aa288fd",
   "metadata": {},
   "outputs": [],
   "source": [
    "def split(x):\n",
    "    a = str(x).split(' ')\n",
    "    return a[0]"
   ]
  },
  {
   "cell_type": "code",
   "execution_count": 12,
   "id": "26491e21",
   "metadata": {},
   "outputs": [],
   "source": [
    "df2['year_'] = df2['year'].map(split)"
   ]
  },
  {
   "cell_type": "code",
   "execution_count": 13,
   "id": "213b5944",
   "metadata": {},
   "outputs": [],
   "source": [
    "df2 = df2[:84]"
   ]
  },
  {
   "cell_type": "code",
   "execution_count": 14,
   "id": "7b31d2fe",
   "metadata": {},
   "outputs": [],
   "source": [
    "df2 = df2.groupby('year_').mean()"
   ]
  },
  {
   "cell_type": "code",
   "execution_count": 15,
   "id": "25f54ca5",
   "metadata": {},
   "outputs": [],
   "source": [
    "df1.set_index(['year'],inplace=True)"
   ]
  },
  {
   "cell_type": "code",
   "execution_count": 16,
   "id": "866c627a",
   "metadata": {},
   "outputs": [],
   "source": [
    "df1['非正規比率'] = df1['非正規の職員・従業員']/df1['雇用者']"
   ]
  },
  {
   "cell_type": "code",
   "execution_count": 17,
   "id": "64a662f6",
   "metadata": {},
   "outputs": [],
   "source": [
    "df2['非正規比率'] = df2['非正規の職員・従業員']/df2['雇用者']"
   ]
  },
  {
   "cell_type": "code",
   "execution_count": 18,
   "id": "5012779a",
   "metadata": {},
   "outputs": [],
   "source": [
    "data = pd.concat([df1,df2])"
   ]
  },
  {
   "cell_type": "code",
   "execution_count": null,
   "id": "54dd5ecb",
   "metadata": {},
   "outputs": [],
   "source": []
  },
  {
   "cell_type": "code",
   "execution_count": 19,
   "id": "2cd33e23",
   "metadata": {},
   "outputs": [],
   "source": [
    "def split_again(x):\n",
    "    \n",
    "    a = str(x).split('.')\n",
    "    if len(a) ==2:\n",
    "        return a[1]\n",
    "    return a[0]"
   ]
  },
  {
   "cell_type": "code",
   "execution_count": 20,
   "id": "6a961f00",
   "metadata": {},
   "outputs": [],
   "source": [
    "data.reset_index(inplace=True)"
   ]
  },
  {
   "cell_type": "code",
   "execution_count": 21,
   "id": "2f51b4ab",
   "metadata": {},
   "outputs": [],
   "source": [
    "data['year'] = data['index'].map(split_again)"
   ]
  },
  {
   "cell_type": "code",
   "execution_count": 22,
   "id": "f0a352a2",
   "metadata": {},
   "outputs": [],
   "source": [
    "data.drop(columns=['index'],inplace=True)"
   ]
  },
  {
   "cell_type": "code",
   "execution_count": 23,
   "id": "ca95012a",
   "metadata": {},
   "outputs": [
    {
     "data": {
      "text/html": [
       "<div>\n",
       "<style scoped>\n",
       "    .dataframe tbody tr th:only-of-type {\n",
       "        vertical-align: middle;\n",
       "    }\n",
       "\n",
       "    .dataframe tbody tr th {\n",
       "        vertical-align: top;\n",
       "    }\n",
       "\n",
       "    .dataframe thead th {\n",
       "        text-align: right;\n",
       "    }\n",
       "</style>\n",
       "<table border=\"1\" class=\"dataframe\">\n",
       "  <thead>\n",
       "    <tr style=\"text-align: right;\">\n",
       "      <th></th>\n",
       "      <th>就業者</th>\n",
       "      <th>雇用者</th>\n",
       "      <th>役員を除く雇用者</th>\n",
       "      <th>正規の職員・従業員</th>\n",
       "      <th>非正規の職員・従業員</th>\n",
       "      <th>非正規比率</th>\n",
       "      <th>year</th>\n",
       "    </tr>\n",
       "  </thead>\n",
       "  <tbody>\n",
       "    <tr>\n",
       "      <th>0</th>\n",
       "      <td>5553</td>\n",
       "      <td>4195</td>\n",
       "      <td>3936</td>\n",
       "      <td>3333</td>\n",
       "      <td>604</td>\n",
       "      <td>0.143981</td>\n",
       "      <td>1984</td>\n",
       "    </tr>\n",
       "    <tr>\n",
       "      <th>1</th>\n",
       "      <td>5635</td>\n",
       "      <td>4259</td>\n",
       "      <td>3999</td>\n",
       "      <td>3343</td>\n",
       "      <td>655</td>\n",
       "      <td>0.153792</td>\n",
       "      <td>1985</td>\n",
       "    </tr>\n",
       "    <tr>\n",
       "      <th>2</th>\n",
       "      <td>5677</td>\n",
       "      <td>4322</td>\n",
       "      <td>4056</td>\n",
       "      <td>3383</td>\n",
       "      <td>673</td>\n",
       "      <td>0.155715</td>\n",
       "      <td>1986</td>\n",
       "    </tr>\n",
       "    <tr>\n",
       "      <th>3</th>\n",
       "      <td>5691</td>\n",
       "      <td>4327</td>\n",
       "      <td>4048</td>\n",
       "      <td>3337</td>\n",
       "      <td>711</td>\n",
       "      <td>0.164317</td>\n",
       "      <td>1987</td>\n",
       "    </tr>\n",
       "    <tr>\n",
       "      <th>4</th>\n",
       "      <td>5791</td>\n",
       "      <td>4422</td>\n",
       "      <td>4132</td>\n",
       "      <td>3377</td>\n",
       "      <td>755</td>\n",
       "      <td>0.170737</td>\n",
       "      <td>1988</td>\n",
       "    </tr>\n",
       "    <tr>\n",
       "      <th>5</th>\n",
       "      <td>5904</td>\n",
       "      <td>4571</td>\n",
       "      <td>4269</td>\n",
       "      <td>3452</td>\n",
       "      <td>817</td>\n",
       "      <td>0.178736</td>\n",
       "      <td>1989</td>\n",
       "    </tr>\n",
       "    <tr>\n",
       "      <th>6</th>\n",
       "      <td>6038</td>\n",
       "      <td>4690</td>\n",
       "      <td>4369</td>\n",
       "      <td>3488</td>\n",
       "      <td>881</td>\n",
       "      <td>0.187846</td>\n",
       "      <td>1990</td>\n",
       "    </tr>\n",
       "    <tr>\n",
       "      <th>7</th>\n",
       "      <td>6159</td>\n",
       "      <td>4877</td>\n",
       "      <td>4536</td>\n",
       "      <td>3639</td>\n",
       "      <td>897</td>\n",
       "      <td>0.183925</td>\n",
       "      <td>1991</td>\n",
       "    </tr>\n",
       "    <tr>\n",
       "      <th>8</th>\n",
       "      <td>6297</td>\n",
       "      <td>5030</td>\n",
       "      <td>4664</td>\n",
       "      <td>3705</td>\n",
       "      <td>958</td>\n",
       "      <td>0.190457</td>\n",
       "      <td>1992</td>\n",
       "    </tr>\n",
       "    <tr>\n",
       "      <th>9</th>\n",
       "      <td>6273</td>\n",
       "      <td>5115</td>\n",
       "      <td>4743</td>\n",
       "      <td>3756</td>\n",
       "      <td>986</td>\n",
       "      <td>0.192766</td>\n",
       "      <td>1993</td>\n",
       "    </tr>\n",
       "    <tr>\n",
       "      <th>10</th>\n",
       "      <td>6290</td>\n",
       "      <td>5139</td>\n",
       "      <td>4776</td>\n",
       "      <td>3805</td>\n",
       "      <td>971</td>\n",
       "      <td>0.188947</td>\n",
       "      <td>1994</td>\n",
       "    </tr>\n",
       "    <tr>\n",
       "      <th>11</th>\n",
       "      <td>6303</td>\n",
       "      <td>5169</td>\n",
       "      <td>4780</td>\n",
       "      <td>3779</td>\n",
       "      <td>1001</td>\n",
       "      <td>0.193654</td>\n",
       "      <td>1995</td>\n",
       "    </tr>\n",
       "    <tr>\n",
       "      <th>12</th>\n",
       "      <td>6286</td>\n",
       "      <td>5237</td>\n",
       "      <td>4843</td>\n",
       "      <td>3800</td>\n",
       "      <td>1043</td>\n",
       "      <td>0.19916</td>\n",
       "      <td>1996</td>\n",
       "    </tr>\n",
       "    <tr>\n",
       "      <th>13</th>\n",
       "      <td>6405</td>\n",
       "      <td>5349</td>\n",
       "      <td>4963</td>\n",
       "      <td>3812</td>\n",
       "      <td>1152</td>\n",
       "      <td>0.215367</td>\n",
       "      <td>1997</td>\n",
       "    </tr>\n",
       "    <tr>\n",
       "      <th>14</th>\n",
       "      <td>6399</td>\n",
       "      <td>5338</td>\n",
       "      <td>4967</td>\n",
       "      <td>3794</td>\n",
       "      <td>1173</td>\n",
       "      <td>0.219745</td>\n",
       "      <td>1998</td>\n",
       "    </tr>\n",
       "    <tr>\n",
       "      <th>15</th>\n",
       "      <td>6323</td>\n",
       "      <td>5277</td>\n",
       "      <td>4913</td>\n",
       "      <td>3688</td>\n",
       "      <td>1225</td>\n",
       "      <td>0.232139</td>\n",
       "      <td>1999</td>\n",
       "    </tr>\n",
       "    <tr>\n",
       "      <th>16</th>\n",
       "      <td>6500</td>\n",
       "      <td>5347</td>\n",
       "      <td>4955</td>\n",
       "      <td>3688</td>\n",
       "      <td>1268</td>\n",
       "      <td>0.237142</td>\n",
       "      <td>1999</td>\n",
       "    </tr>\n",
       "    <tr>\n",
       "      <th>17</th>\n",
       "      <td>6300</td>\n",
       "      <td>5267</td>\n",
       "      <td>4903</td>\n",
       "      <td>3630</td>\n",
       "      <td>1273</td>\n",
       "      <td>0.241694</td>\n",
       "      <td>2000</td>\n",
       "    </tr>\n",
       "    <tr>\n",
       "      <th>18</th>\n",
       "      <td>6469</td>\n",
       "      <td>5353</td>\n",
       "      <td>5008</td>\n",
       "      <td>3695</td>\n",
       "      <td>1313</td>\n",
       "      <td>0.245283</td>\n",
       "      <td>2000</td>\n",
       "    </tr>\n",
       "    <tr>\n",
       "      <th>19</th>\n",
       "      <td>6341</td>\n",
       "      <td>5342</td>\n",
       "      <td>4999</td>\n",
       "      <td>3640</td>\n",
       "      <td>1360</td>\n",
       "      <td>0.254586</td>\n",
       "      <td>2001</td>\n",
       "    </tr>\n",
       "    <tr>\n",
       "      <th>20</th>\n",
       "      <td>6432</td>\n",
       "      <td>5358</td>\n",
       "      <td>4974</td>\n",
       "      <td>3597</td>\n",
       "      <td>1377</td>\n",
       "      <td>0.256999</td>\n",
       "      <td>2001</td>\n",
       "    </tr>\n",
       "    <tr>\n",
       "      <th>21</th>\n",
       "      <td>6318.5</td>\n",
       "      <td>5337.0</td>\n",
       "      <td>4940.0</td>\n",
       "      <td>3488.75</td>\n",
       "      <td>1451.5</td>\n",
       "      <td>0.271969</td>\n",
       "      <td>2002</td>\n",
       "    </tr>\n",
       "    <tr>\n",
       "      <th>22</th>\n",
       "      <td>6304.0</td>\n",
       "      <td>5342.75</td>\n",
       "      <td>4948.25</td>\n",
       "      <td>3444.0</td>\n",
       "      <td>1503.75</td>\n",
       "      <td>0.281456</td>\n",
       "      <td>2003</td>\n",
       "    </tr>\n",
       "    <tr>\n",
       "      <th>23</th>\n",
       "      <td>6316.25</td>\n",
       "      <td>5372.0</td>\n",
       "      <td>4974.25</td>\n",
       "      <td>3410.5</td>\n",
       "      <td>1564.25</td>\n",
       "      <td>0.291186</td>\n",
       "      <td>2004</td>\n",
       "    </tr>\n",
       "    <tr>\n",
       "      <th>24</th>\n",
       "      <td>6344.0</td>\n",
       "      <td>5407.75</td>\n",
       "      <td>5007.5</td>\n",
       "      <td>3374.5</td>\n",
       "      <td>1633.5</td>\n",
       "      <td>0.302066</td>\n",
       "      <td>2005</td>\n",
       "    </tr>\n",
       "    <tr>\n",
       "      <th>25</th>\n",
       "      <td>6375.25</td>\n",
       "      <td>5486.0</td>\n",
       "      <td>5092.25</td>\n",
       "      <td>3414.75</td>\n",
       "      <td>1678.25</td>\n",
       "      <td>0.305915</td>\n",
       "      <td>2006</td>\n",
       "    </tr>\n",
       "    <tr>\n",
       "      <th>26</th>\n",
       "      <td>6415.5</td>\n",
       "      <td>5571.75</td>\n",
       "      <td>5184.75</td>\n",
       "      <td>3448.75</td>\n",
       "      <td>1735.5</td>\n",
       "      <td>0.311482</td>\n",
       "      <td>2007</td>\n",
       "    </tr>\n",
       "    <tr>\n",
       "      <th>27</th>\n",
       "      <td>6395.75</td>\n",
       "      <td>5555.75</td>\n",
       "      <td>5175.25</td>\n",
       "      <td>3410.25</td>\n",
       "      <td>1765.25</td>\n",
       "      <td>0.317734</td>\n",
       "      <td>2008</td>\n",
       "    </tr>\n",
       "    <tr>\n",
       "      <th>28</th>\n",
       "      <td>6299.5</td>\n",
       "      <td>5501.5</td>\n",
       "      <td>5123.5</td>\n",
       "      <td>3395.25</td>\n",
       "      <td>1726.75</td>\n",
       "      <td>0.313869</td>\n",
       "      <td>2009</td>\n",
       "    </tr>\n",
       "    <tr>\n",
       "      <th>29</th>\n",
       "      <td>6282.25</td>\n",
       "      <td>5508.0</td>\n",
       "      <td>5137.75</td>\n",
       "      <td>3374.5</td>\n",
       "      <td>1762.75</td>\n",
       "      <td>0.320034</td>\n",
       "      <td>2010</td>\n",
       "    </tr>\n",
       "    <tr>\n",
       "      <th>30</th>\n",
       "      <td>6284.5</td>\n",
       "      <td>5534.25</td>\n",
       "      <td>5166.75</td>\n",
       "      <td>3354.5</td>\n",
       "      <td>1811.75</td>\n",
       "      <td>0.32737</td>\n",
       "      <td>2011</td>\n",
       "    </tr>\n",
       "    <tr>\n",
       "      <th>31</th>\n",
       "      <td>6271.0</td>\n",
       "      <td>5530.25</td>\n",
       "      <td>5161.25</td>\n",
       "      <td>3345.25</td>\n",
       "      <td>1815.5</td>\n",
       "      <td>0.328285</td>\n",
       "      <td>2012</td>\n",
       "    </tr>\n",
       "    <tr>\n",
       "      <th>32</th>\n",
       "      <td>6317.75</td>\n",
       "      <td>5557.75</td>\n",
       "      <td>5212.75</td>\n",
       "      <td>3301.75</td>\n",
       "      <td>1909.75</td>\n",
       "      <td>0.343619</td>\n",
       "      <td>2013</td>\n",
       "    </tr>\n",
       "    <tr>\n",
       "      <th>33</th>\n",
       "      <td>6361.25</td>\n",
       "      <td>5603.25</td>\n",
       "      <td>5255.75</td>\n",
       "      <td>3288.25</td>\n",
       "      <td>1967.0</td>\n",
       "      <td>0.351046</td>\n",
       "      <td>2014</td>\n",
       "    </tr>\n",
       "    <tr>\n",
       "      <th>34</th>\n",
       "      <td>6392.0</td>\n",
       "      <td>5653.5</td>\n",
       "      <td>5303.75</td>\n",
       "      <td>3317.0</td>\n",
       "      <td>1986.0</td>\n",
       "      <td>0.351287</td>\n",
       "      <td>2015</td>\n",
       "    </tr>\n",
       "    <tr>\n",
       "      <th>35</th>\n",
       "      <td>6463.0</td>\n",
       "      <td>5748.25</td>\n",
       "      <td>5397.0</td>\n",
       "      <td>3372.5</td>\n",
       "      <td>2024.75</td>\n",
       "      <td>0.352238</td>\n",
       "      <td>2016</td>\n",
       "    </tr>\n",
       "    <tr>\n",
       "      <th>36</th>\n",
       "      <td>6536.25</td>\n",
       "      <td>5823.75</td>\n",
       "      <td>5474.0</td>\n",
       "      <td>3433.75</td>\n",
       "      <td>2040.0</td>\n",
       "      <td>0.35029</td>\n",
       "      <td>2017</td>\n",
       "    </tr>\n",
       "    <tr>\n",
       "      <th>37</th>\n",
       "      <td>6677.75</td>\n",
       "      <td>5948.5</td>\n",
       "      <td>5617.5</td>\n",
       "      <td>3492.0</td>\n",
       "      <td>2126.0</td>\n",
       "      <td>0.357401</td>\n",
       "      <td>2018</td>\n",
       "    </tr>\n",
       "    <tr>\n",
       "      <th>38</th>\n",
       "      <td>6746.25</td>\n",
       "      <td>6024.25</td>\n",
       "      <td>5687.5</td>\n",
       "      <td>3515.25</td>\n",
       "      <td>2173.0</td>\n",
       "      <td>0.360709</td>\n",
       "      <td>2019</td>\n",
       "    </tr>\n",
       "    <tr>\n",
       "      <th>39</th>\n",
       "      <td>6705.75</td>\n",
       "      <td>6000.0</td>\n",
       "      <td>5655.0</td>\n",
       "      <td>3556.0</td>\n",
       "      <td>2100.0</td>\n",
       "      <td>0.35</td>\n",
       "      <td>2020</td>\n",
       "    </tr>\n",
       "    <tr>\n",
       "      <th>40</th>\n",
       "      <td>6702.75</td>\n",
       "      <td>6006.25</td>\n",
       "      <td>5661.75</td>\n",
       "      <td>3586.75</td>\n",
       "      <td>2075.25</td>\n",
       "      <td>0.345515</td>\n",
       "      <td>2021</td>\n",
       "    </tr>\n",
       "    <tr>\n",
       "      <th>41</th>\n",
       "      <td>6713.25</td>\n",
       "      <td>6032.0</td>\n",
       "      <td>5689.25</td>\n",
       "      <td>3588.0</td>\n",
       "      <td>2101.5</td>\n",
       "      <td>0.348392</td>\n",
       "      <td>2022</td>\n",
       "    </tr>\n",
       "  </tbody>\n",
       "</table>\n",
       "</div>"
      ],
      "text/plain": [
       "        就業者      雇用者 役員を除く雇用者 正規の職員・従業員 非正規の職員・従業員     非正規比率   year\n",
       "0      5553     4195     3936      3333        604  0.143981   1984\n",
       "1      5635     4259     3999      3343        655  0.153792   1985\n",
       "2      5677     4322     4056      3383        673  0.155715   1986\n",
       "3      5691     4327     4048      3337        711  0.164317   1987\n",
       "4      5791     4422     4132      3377        755  0.170737   1988\n",
       "5      5904     4571     4269      3452        817  0.178736   1989\n",
       "6      6038     4690     4369      3488        881  0.187846   1990\n",
       "7      6159     4877     4536      3639        897  0.183925   1991\n",
       "8      6297     5030     4664      3705        958  0.190457   1992\n",
       "9      6273     5115     4743      3756        986  0.192766   1993\n",
       "10     6290     5139     4776      3805        971  0.188947   1994\n",
       "11     6303     5169     4780      3779       1001  0.193654   1995\n",
       "12     6286     5237     4843      3800       1043   0.19916   1996\n",
       "13     6405     5349     4963      3812       1152  0.215367   1997\n",
       "14     6399     5338     4967      3794       1173  0.219745   1998\n",
       "15     6323     5277     4913      3688       1225  0.232139   1999\n",
       "16     6500     5347     4955      3688       1268  0.237142   1999\n",
       "17     6300     5267     4903      3630       1273  0.241694   2000\n",
       "18     6469     5353     5008      3695       1313  0.245283   2000\n",
       "19     6341     5342     4999      3640       1360  0.254586   2001\n",
       "20     6432     5358     4974      3597       1377  0.256999   2001\n",
       "21   6318.5   5337.0   4940.0   3488.75     1451.5  0.271969   2002\n",
       "22   6304.0  5342.75  4948.25    3444.0    1503.75  0.281456   2003\n",
       "23  6316.25   5372.0  4974.25    3410.5    1564.25  0.291186   2004\n",
       "24   6344.0  5407.75   5007.5    3374.5     1633.5  0.302066   2005\n",
       "25  6375.25   5486.0  5092.25   3414.75    1678.25  0.305915   2006\n",
       "26   6415.5  5571.75  5184.75   3448.75     1735.5  0.311482   2007\n",
       "27  6395.75  5555.75  5175.25   3410.25    1765.25  0.317734   2008\n",
       "28   6299.5   5501.5   5123.5   3395.25    1726.75  0.313869   2009\n",
       "29  6282.25   5508.0  5137.75    3374.5    1762.75  0.320034   2010\n",
       "30   6284.5  5534.25  5166.75    3354.5    1811.75   0.32737   2011\n",
       "31   6271.0  5530.25  5161.25   3345.25     1815.5  0.328285   2012\n",
       "32  6317.75  5557.75  5212.75   3301.75    1909.75  0.343619   2013\n",
       "33  6361.25  5603.25  5255.75   3288.25     1967.0  0.351046   2014\n",
       "34   6392.0   5653.5  5303.75    3317.0     1986.0  0.351287   2015\n",
       "35   6463.0  5748.25   5397.0    3372.5    2024.75  0.352238   2016\n",
       "36  6536.25  5823.75   5474.0   3433.75     2040.0   0.35029   2017\n",
       "37  6677.75   5948.5   5617.5    3492.0     2126.0  0.357401   2018\n",
       "38  6746.25  6024.25   5687.5   3515.25     2173.0  0.360709   2019\n",
       "39  6705.75   6000.0   5655.0    3556.0     2100.0      0.35   2020\n",
       "40  6702.75  6006.25  5661.75   3586.75    2075.25  0.345515   2021\n",
       "41  6713.25   6032.0  5689.25    3588.0     2101.5  0.348392   2022"
      ]
     },
     "execution_count": 23,
     "metadata": {},
     "output_type": "execute_result"
    }
   ],
   "source": [
    "data"
   ]
  },
  {
   "cell_type": "code",
   "execution_count": 57,
   "id": "1a9df3f8",
   "metadata": {},
   "outputs": [
    {
     "data": {
      "image/png": "[encoded data removed]",
      "text/plain": [
       "<Figure size 800x500 with 1 Axes>"
      ]
     },
     "metadata": {},
     "output_type": "display_data"
    }
   ],
   "source": [
    "fig = plt.figure(figsize=(8,5))\n",
    "ax = plt.subplot(111)\n",
    "\n",
    "plt.plot(data['year'][6:],data['非正規比率'][6:])\n",
    "_=plt.xticks(ticks = data['year'][6:],rotation = 90)\n",
    "plt.title('図１：「労働力調査」詳細集計による「非正規雇用」の比率の推移(1990-2022)')\n",
    "plt.xlabel('年分')\n",
    "plt.ylabel('非正規雇用者の比率')\n",
    "plt.grid(axis = 'y')\n",
    "\n",
    "\n",
    "plt.savefig('./非正規比率(1990-2022)')"
   ]
  },
  {
   "cell_type": "markdown",
   "id": "5ee55646",
   "metadata": {},
   "source": [
    "### 『労働力調査』詳細集計年平均による「非正規雇用」の比率の推移(male)"
   ]
  },
  {
   "cell_type": "code",
   "execution_count": 25,
   "id": "e4569e1b",
   "metadata": {},
   "outputs": [],
   "source": [
    "df = pd.read_excel('./lt51 (2).xlsx',sheet_name='男')"
   ]
  },
  {
   "cell_type": "code",
   "execution_count": 26,
   "id": "a5694a77",
   "metadata": {},
   "outputs": [],
   "source": [
    "df = df.iloc[13:118,2:8]"
   ]
  },
  {
   "cell_type": "code",
   "execution_count": 27,
   "id": "be698bce",
   "metadata": {},
   "outputs": [],
   "source": [
    "df.columns = ['year','就業者','雇用者','役員を除く雇用者','正規の職員・従業員','非正規の職員・従業員']"
   ]
  },
  {
   "cell_type": "code",
   "execution_count": 28,
   "id": "c2c6146d",
   "metadata": {},
   "outputs": [],
   "source": [
    "df.reset_index(drop = 'index',inplace=True)"
   ]
  },
  {
   "cell_type": "code",
   "execution_count": 29,
   "id": "4c30dd9c",
   "metadata": {},
   "outputs": [],
   "source": [
    "df1 = df[:21]"
   ]
  },
  {
   "cell_type": "code",
   "execution_count": 30,
   "id": "18022781",
   "metadata": {},
   "outputs": [],
   "source": [
    "df2 = df[21:]"
   ]
  },
  {
   "cell_type": "code",
   "execution_count": 31,
   "id": "14ae51fb",
   "metadata": {},
   "outputs": [],
   "source": [
    "df1['year'] = df1['year'].map(split_again)"
   ]
  },
  {
   "cell_type": "code",
   "execution_count": 32,
   "id": "087db409",
   "metadata": {},
   "outputs": [],
   "source": [
    "df2['year'] = df2['year'].map(split)"
   ]
  },
  {
   "cell_type": "code",
   "execution_count": 33,
   "id": "af84c48b",
   "metadata": {},
   "outputs": [],
   "source": [
    "df2.reset_index(drop = 'index',inplace=True)"
   ]
  },
  {
   "cell_type": "code",
   "execution_count": 34,
   "id": "a381116b",
   "metadata": {},
   "outputs": [],
   "source": [
    "df2 = df2.groupby('year').mean().reset_index()"
   ]
  },
  {
   "cell_type": "code",
   "execution_count": 35,
   "id": "41437ab2",
   "metadata": {},
   "outputs": [],
   "source": [
    "male_data = pd.concat([df1,df2])"
   ]
  },
  {
   "cell_type": "code",
   "execution_count": 36,
   "id": "bf4fcf17",
   "metadata": {},
   "outputs": [],
   "source": [
    "male_data['非正規比率'] = male_data['非正規の職員・従業員']/male_data['雇用者']"
   ]
  },
  {
   "cell_type": "code",
   "execution_count": 37,
   "id": "046137f1",
   "metadata": {},
   "outputs": [
    {
     "data": {
      "text/html": [
       "<div>\n",
       "<style scoped>\n",
       "    .dataframe tbody tr th:only-of-type {\n",
       "        vertical-align: middle;\n",
       "    }\n",
       "\n",
       "    .dataframe tbody tr th {\n",
       "        vertical-align: top;\n",
       "    }\n",
       "\n",
       "    .dataframe thead th {\n",
       "        text-align: right;\n",
       "    }\n",
       "</style>\n",
       "<table border=\"1\" class=\"dataframe\">\n",
       "  <thead>\n",
       "    <tr style=\"text-align: right;\">\n",
       "      <th></th>\n",
       "      <th>year</th>\n",
       "      <th>就業者</th>\n",
       "      <th>雇用者</th>\n",
       "      <th>役員を除く雇用者</th>\n",
       "      <th>正規の職員・従業員</th>\n",
       "      <th>非正規の職員・従業員</th>\n",
       "      <th>非正規比率</th>\n",
       "    </tr>\n",
       "  </thead>\n",
       "  <tbody>\n",
       "    <tr>\n",
       "      <th>17</th>\n",
       "      <td>2019</td>\n",
       "      <td>3738.75</td>\n",
       "      <td>3289.5</td>\n",
       "      <td>3038.0</td>\n",
       "      <td>2347.5</td>\n",
       "      <td>690.5</td>\n",
       "      <td>0.20991</td>\n",
       "    </tr>\n",
       "  </tbody>\n",
       "</table>\n",
       "</div>"
      ],
      "text/plain": [
       "    year      就業者     雇用者 役員を除く雇用者 正規の職員・従業員 非正規の職員・従業員    非正規比率\n",
       "17  2019  3738.75  3289.5   3038.0    2347.5      690.5  0.20991"
      ]
     },
     "execution_count": 37,
     "metadata": {},
     "output_type": "execute_result"
    }
   ],
   "source": [
    "male_data[male_data['非正規比率']==male_data['非正規比率'].max()]"
   ]
  },
  {
   "cell_type": "markdown",
   "id": "c7523683",
   "metadata": {},
   "source": [
    "### 『労働力調査』詳細集計年平均による「非正規雇用」の比率の推移(female)"
   ]
  },
  {
   "cell_type": "code",
   "execution_count": 38,
   "id": "2de3395e",
   "metadata": {},
   "outputs": [],
   "source": [
    "df = pd.read_excel('./lt51 (2).xlsx',sheet_name='女')"
   ]
  },
  {
   "cell_type": "code",
   "execution_count": 39,
   "id": "99a9efe0",
   "metadata": {},
   "outputs": [],
   "source": [
    "df = df.iloc[13:118,2:8]"
   ]
  },
  {
   "cell_type": "code",
   "execution_count": 40,
   "id": "affb602c",
   "metadata": {},
   "outputs": [],
   "source": [
    "df.columns = ['year','就業者','雇用者','役員を除く雇用者','正規の職員・従業員','非正規の職員・従業員']"
   ]
  },
  {
   "cell_type": "code",
   "execution_count": 41,
   "id": "a427db87",
   "metadata": {},
   "outputs": [],
   "source": [
    "df.reset_index(drop = 'index',inplace=True)"
   ]
  },
  {
   "cell_type": "code",
   "execution_count": 42,
   "id": "effea015",
   "metadata": {},
   "outputs": [],
   "source": [
    "df1 = df[:21]"
   ]
  },
  {
   "cell_type": "code",
   "execution_count": 43,
   "id": "ea27dc8c",
   "metadata": {},
   "outputs": [],
   "source": [
    "df2 = df[21:]"
   ]
  },
  {
   "cell_type": "code",
   "execution_count": 44,
   "id": "111a4aba",
   "metadata": {},
   "outputs": [],
   "source": [
    "df2.reset_index(drop='index',inplace=True)"
   ]
  },
  {
   "cell_type": "code",
   "execution_count": 45,
   "id": "38980487",
   "metadata": {},
   "outputs": [],
   "source": [
    "df1['year'] = df1['year'].map(split_again)"
   ]
  },
  {
   "cell_type": "code",
   "execution_count": 46,
   "id": "2af87142",
   "metadata": {},
   "outputs": [],
   "source": [
    "df2['year'] = df2['year'].map(split)"
   ]
  },
  {
   "cell_type": "code",
   "execution_count": 47,
   "id": "06ce8cf1",
   "metadata": {},
   "outputs": [],
   "source": [
    "df2 = df2.groupby('year').mean().reset_index()"
   ]
  },
  {
   "cell_type": "code",
   "execution_count": 48,
   "id": "07c5abc0",
   "metadata": {},
   "outputs": [],
   "source": [
    "female_data = pd.concat([df1,df2])"
   ]
  },
  {
   "cell_type": "code",
   "execution_count": 49,
   "id": "8d275771",
   "metadata": {},
   "outputs": [],
   "source": [
    "female_data['非正規比率']  = female_data['非正規の職員・従業員']/female_data['雇用者']"
   ]
  },
  {
   "cell_type": "code",
   "execution_count": 50,
   "id": "fafb3be5",
   "metadata": {
    "scrolled": true
   },
   "outputs": [
    {
     "data": {
      "text/html": [
       "<div>\n",
       "<style scoped>\n",
       "    .dataframe tbody tr th:only-of-type {\n",
       "        vertical-align: middle;\n",
       "    }\n",
       "\n",
       "    .dataframe tbody tr th {\n",
       "        vertical-align: top;\n",
       "    }\n",
       "\n",
       "    .dataframe thead th {\n",
       "        text-align: right;\n",
       "    }\n",
       "</style>\n",
       "<table border=\"1\" class=\"dataframe\">\n",
       "  <thead>\n",
       "    <tr style=\"text-align: right;\">\n",
       "      <th></th>\n",
       "      <th>year</th>\n",
       "      <th>就業者</th>\n",
       "      <th>雇用者</th>\n",
       "      <th>役員を除く雇用者</th>\n",
       "      <th>正規の職員・従業員</th>\n",
       "      <th>非正規の職員・従業員</th>\n",
       "      <th>非正規比率</th>\n",
       "    </tr>\n",
       "  </thead>\n",
       "  <tbody>\n",
       "    <tr>\n",
       "      <th>0</th>\n",
       "      <td>1984</td>\n",
       "      <td>2140</td>\n",
       "      <td>1460</td>\n",
       "      <td>1406</td>\n",
       "      <td>998</td>\n",
       "      <td>408</td>\n",
       "      <td>0.279452</td>\n",
       "    </tr>\n",
       "    <tr>\n",
       "      <th>1</th>\n",
       "      <td>1985</td>\n",
       "      <td>2204</td>\n",
       "      <td>1509</td>\n",
       "      <td>1463</td>\n",
       "      <td>994</td>\n",
       "      <td>470</td>\n",
       "      <td>0.311465</td>\n",
       "    </tr>\n",
       "    <tr>\n",
       "      <th>2</th>\n",
       "      <td>1986</td>\n",
       "      <td>2229</td>\n",
       "      <td>1556</td>\n",
       "      <td>1502</td>\n",
       "      <td>1018</td>\n",
       "      <td>483</td>\n",
       "      <td>0.310411</td>\n",
       "    </tr>\n",
       "    <tr>\n",
       "      <th>3</th>\n",
       "      <td>1987</td>\n",
       "      <td>2232</td>\n",
       "      <td>1559</td>\n",
       "      <td>1507</td>\n",
       "      <td>989</td>\n",
       "      <td>517</td>\n",
       "      <td>0.331623</td>\n",
       "    </tr>\n",
       "    <tr>\n",
       "      <th>4</th>\n",
       "      <td>1988</td>\n",
       "      <td>2286</td>\n",
       "      <td>1611</td>\n",
       "      <td>1555</td>\n",
       "      <td>1009</td>\n",
       "      <td>546</td>\n",
       "      <td>0.33892</td>\n",
       "    </tr>\n",
       "  </tbody>\n",
       "</table>\n",
       "</div>"
      ],
      "text/plain": [
       "    year   就業者   雇用者 役員を除く雇用者 正規の職員・従業員 非正規の職員・従業員     非正規比率\n",
       "0   1984  2140  1460     1406       998        408  0.279452\n",
       "1   1985  2204  1509     1463       994        470  0.311465\n",
       "2   1986  2229  1556     1502      1018        483  0.310411\n",
       "3   1987  2232  1559     1507       989        517  0.331623\n",
       "4   1988  2286  1611     1555      1009        546   0.33892"
      ]
     },
     "execution_count": 50,
     "metadata": {},
     "output_type": "execute_result"
    }
   ],
   "source": [
    "female_data.head()"
   ]
  },
  {
   "cell_type": "code",
   "execution_count": 51,
   "id": "b071dba1",
   "metadata": {},
   "outputs": [
    {
     "data": {
      "text/html": [
       "<div>\n",
       "<style scoped>\n",
       "    .dataframe tbody tr th:only-of-type {\n",
       "        vertical-align: middle;\n",
       "    }\n",
       "\n",
       "    .dataframe tbody tr th {\n",
       "        vertical-align: top;\n",
       "    }\n",
       "\n",
       "    .dataframe thead th {\n",
       "        text-align: right;\n",
       "    }\n",
       "</style>\n",
       "<table border=\"1\" class=\"dataframe\">\n",
       "  <thead>\n",
       "    <tr style=\"text-align: right;\">\n",
       "      <th></th>\n",
       "      <th>year</th>\n",
       "      <th>就業者</th>\n",
       "      <th>雇用者</th>\n",
       "      <th>役員を除く雇用者</th>\n",
       "      <th>正規の職員・従業員</th>\n",
       "      <th>非正規の職員・従業員</th>\n",
       "      <th>非正規比率</th>\n",
       "    </tr>\n",
       "  </thead>\n",
       "  <tbody>\n",
       "    <tr>\n",
       "      <th>12</th>\n",
       "      <td>2014</td>\n",
       "      <td>2735.5</td>\n",
       "      <td>2442.25</td>\n",
       "      <td>2357.0</td>\n",
       "      <td>1021.5</td>\n",
       "      <td>1335.5</td>\n",
       "      <td>0.546832</td>\n",
       "    </tr>\n",
       "  </tbody>\n",
       "</table>\n",
       "</div>"
      ],
      "text/plain": [
       "    year     就業者      雇用者 役員を除く雇用者 正規の職員・従業員 非正規の職員・従業員     非正規比率\n",
       "12  2014  2735.5  2442.25   2357.0    1021.5     1335.5  0.546832"
      ]
     },
     "execution_count": 51,
     "metadata": {},
     "output_type": "execute_result"
    }
   ],
   "source": [
    "female_data[female_data['非正規比率']==female_data['非正規比率'].max()]"
   ]
  },
  {
   "cell_type": "code",
   "execution_count": 52,
   "id": "80e8232c",
   "metadata": {},
   "outputs": [
    {
     "data": {
      "image/png": "[encoded data removed]",
      "text/plain": [
       "<Figure size 800x500 with 2 Axes>"
      ]
     },
     "metadata": {},
     "output_type": "display_data"
    }
   ],
   "source": [
    "fig = plt.figure(figsize=(8,5))\n",
    "\n",
    "ax1 = plt.subplot(111,label = 'a1')\n",
    "plt.plot(female_data['year'][6:],female_data['非正規比率'][6:],label = '女性',color = 'r')\n",
    "plt.xticks(ticks = data['year'][6:],rotation = 90)\n",
    "plt.xlabel('年分')\n",
    "plt.ylabel('非正規雇用率（女性）')\n",
    "\n",
    "\n",
    "ax2 = ax1.twinx()\n",
    "plt.plot(male_data['year'][6:],male_data['非正規比率'][6:],label = '男性',color='b')\n",
    "plt.ylabel('非正規雇用率（男性）')\n",
    "\n",
    "lines = ax1.get_lines() + ax2.get_lines()\n",
    "plt.legend(lines,['女性','男性'])\n",
    "\n",
    "\n",
    "plt.title('図2：「労働力調査」詳細集計による男女別の「非正規雇用」の比率の推移(1990-2022)')\n",
    "plt.grid()\n",
    "plt.savefig('./非正規比率(1990-2022)＿男女')"
   ]
  },
  {
   "cell_type": "code",
   "execution_count": 53,
   "id": "b50f9d83",
   "metadata": {},
   "outputs": [
    {
     "data": {
      "image/png": "[encoded data removed]",
      "text/plain": [
       "<Figure size 800x500 with 1 Axes>"
      ]
     },
     "metadata": {},
     "output_type": "display_data"
    }
   ],
   "source": [
    "fig = plt.figure(figsize=(8,5))\n",
    "ax = plt.subplot(111,label = 'a1')\n",
    "\n",
    "plt.plot(female_data['year'][6:],female_data['非正規比率'][6:],label = '女性')\n",
    "\n",
    "plt.plot(male_data['year'][6:],male_data['非正規比率'][6:],label = '男性')\n",
    "plt.legend()\n",
    "plt.xticks(ticks = data['year'][6:],rotation = 90)\n",
    "\n",
    "plt.xlabel('年分')\n",
    "plt.ylabel('非正規雇用率')\n",
    "\n",
    "plt.title('図2：「労働力調査」詳細集計による男女別の「非正規雇用」の比率の推移(1990-2022)')\n",
    "plt.grid(axis = 'y')\n",
    "plt.savefig('./非正規比率(1990-2022)＿男女_同轴')"
   ]
  },
  {
   "cell_type": "code",
   "execution_count": null,
   "id": "349844d6",
   "metadata": {},
   "outputs": [],
   "source": []
  },
  {
   "cell_type": "code",
   "execution_count": null,
   "id": "68135de3",
   "metadata": {},
   "outputs": [],
   "source": []
  },
  {
   "cell_type": "code",
   "execution_count": null,
   "id": "5292349e",
   "metadata": {},
   "outputs": [],
   "source": []
  },
  {
   "cell_type": "code",
   "execution_count": null,
   "id": "32102dd8",
   "metadata": {},
   "outputs": [],
   "source": []
  },
  {
   "cell_type": "code",
   "execution_count": null,
   "id": "8d3240c8",
   "metadata": {},
   "outputs": [],
   "source": []
  },
  {
   "cell_type": "code",
   "execution_count": null,
   "id": "77ca82b1",
   "metadata": {},
   "outputs": [],
   "source": []
  }
 ],
 "metadata": {
  "kernelspec": {
   "display_name": "Python 3 (ipykernel)",
   "language": "python",
   "name": "python3"
  },
  "language_info": {
   "codemirror_mode": {
    "name": "ipython",
    "version": 3
   },
   "file_extension": ".py",
   "mimetype": "text/x-python",
   "name": "python",
   "nbconvert_exporter": "python",
   "pygments_lexer": "ipython3",
   "version": "3.9.13"
  }
 },
 "nbformat": 4,
 "nbformat_minor": 5
}
