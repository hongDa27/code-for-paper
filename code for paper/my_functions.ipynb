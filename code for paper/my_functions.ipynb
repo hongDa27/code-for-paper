{
 "cells": [
  {
   "cell_type": "code",
   "execution_count": 4,
   "id": "28aed58a",
   "metadata": {},
   "outputs": [],
   "source": [
    "import numpy as np\n",
    "import pandas as pd\n",
    "import warnings\n"
   ]
  },
  {
   "cell_type": "code",
   "execution_count": 5,
   "id": "92c0bb3c",
   "metadata": {},
   "outputs": [],
   "source": [
    "pd.set_option('display.max_rows',None)\n",
    "pd.set_option('display.max_columns',None)\n",
    "warnings.filterwarnings('ignore')"
   ]
  },
  {
   "cell_type": "code",
   "execution_count": 6,
   "id": "9b3531d0",
   "metadata": {},
   "outputs": [],
   "source": [
    "column_list = ['学历年龄','年齢','勤続年数','所定内実労働時間数','超過実労働時間数','きまって支給する現金給与額(千円)',\n",
    "               '所定内給与額(千円)','年間賞与その他特別給与額(千円)','労働者数(十人)','year']"
   ]
  },
  {
   "cell_type": "code",
   "execution_count": 7,
   "id": "13ba8907",
   "metadata": {},
   "outputs": [],
   "source": [
    "def data_read(sheet_name):\n",
    "    '''\n",
    "    function for reading  subdivision industries‘ data from 2009 to 2018 and return a list\n",
    "    '''\n",
    "\n",
    "    df_list = []\n",
    "    for year in range(2009,2019):\n",
    "    \n",
    "        \n",
    "        df = pd.read_excel(f'/Users/minghongsun/Desktop/model/09-18data/中产业data/{year}.xls',sheet_name =sheet_name)\n",
    "    \n",
    "        df = df.iloc[12:,8:17]\n",
    "        df['year'] = int(year)\n",
    "        df.columns = column_list\n",
    "        df_list.append(df)\n",
    "    return df_list\n",
    "    "
   ]
  },
  {
   "cell_type": "code",
   "execution_count": 8,
   "id": "8030df50",
   "metadata": {},
   "outputs": [],
   "source": [
    " def edu_trans(x):\n",
    "    '''\n",
    "        function for converting education background into year of schooling and return a integer data\n",
    "        \n",
    "    '''\n",
    "    \n",
    "    if x in ['男\\u3000 女\\u3000 計\\n学\\u3000 歴   計','\\u3000\\u3000 男\\n学   歴   計','\\u3000\\u3000 女\\n学   歴   計','     男\\n学\\u3000 歴   計',\n",
    "            '     女\\n学\\u3000 歴   計']:\n",
    "        return 'delete'\n",
    "    elif x =='中   学   卒':\n",
    "        return 9\n",
    "    elif x == '高   校   卒':\n",
    "        return 12\n",
    "    elif x == '高専・短大卒':\n",
    "        return 14\n",
    "    elif x == '大学・大学院卒':\n",
    "        return 16"
   ]
  },
  {
   "cell_type": "code",
   "execution_count": 9,
   "id": "8e0f214e",
   "metadata": {},
   "outputs": [],
   "source": [
    "def sex_trans(x):\n",
    "    '''\n",
    "    function for converting sex's janpanese into 0 or 1,0 is female and 1 is male \n",
    "    '''\n",
    "    \n",
    "    if x in ['男\\u3000 女\\u3000 計\\n学\\u3000 歴   計']:\n",
    "        return 'delete'\n",
    "    elif x in ['\\u3000\\u3000 男\\n学   歴   計','     男\\n学\\u3000 歴   計'] :\n",
    "        return 1\n",
    "    elif x in ['\\u3000\\u3000 女\\n学   歴   計','     女\\n学\\u3000 歴   計']:\n",
    "        return 0"
   ]
  },
  {
   "cell_type": "code",
   "execution_count": 10,
   "id": "078a6034",
   "metadata": {},
   "outputs": [],
   "source": [
    "def del_target_feature(x):\n",
    "    '''\n",
    "    function for finding target data out and return a bool data,\n",
    "    '''\n",
    "    \n",
    "    if x in ['中   学   卒','高   校   卒','高専・短大卒','大学・大学院卒'] :\n",
    "        return False\n",
    "    else:\n",
    "        return True"
   ]
  },
  {
   "cell_type": "code",
   "execution_count": 11,
   "id": "0d986922",
   "metadata": {},
   "outputs": [],
   "source": [
    "def data_preprosessing(df_list):\n",
    "    #concat data in df list into a dataframe\n",
    "    data = pd.concat(df_list)\n",
    "    data.reset_index(inplace=True,drop = 'index')\n",
    "    \n",
    "    #delete data which age is less than 19 and greater than 60\n",
    "    del_list = ['\\u3000\\u3000～１９歳','～１９歳','６０～６４歳','６５～６９歳','７０歳～']\n",
    "    drop_list = []\n",
    "    for item in del_list:\n",
    "        drop_index = data[data['学历年龄'] == item].index\n",
    "        drop_list.append(drop_index)\n",
    "    for item in drop_list:\n",
    "        data.drop(index = item,inplace=True)\n",
    "    data.reset_index(inplace=True,drop = 'index')\n",
    "    \n",
    "    #Call functions ,generate two new featureswhich are gender and educational background and delete useless data   \n",
    "    data['education'] = data['学历年龄'].map(edu_trans)\n",
    "    data['sex'] = data['学历年龄'].map(sex_trans)\n",
    "    data.fillna(method='ffill',inplace=True)\n",
    "    drop_list = []\n",
    "    drop_index = data[(data['sex'] == 'delete' )| (data['education']=='delete')].index\n",
    "    data.drop(index = drop_index,inplace=True)\n",
    "    data.reset_index(inplace=True,drop = 'index')\n",
    "    data = data[data['学历年龄'].map(del_target_feature)]\n",
    "    data.reset_index(drop = 'index',inplace=True)\n",
    "    \n",
    "    return data"
   ]
  },
  {
   "cell_type": "code",
   "execution_count": 12,
   "id": "782bf5c2",
   "metadata": {},
   "outputs": [],
   "source": [
    "def restore_data_in_dic(mul_index,data):\n",
    "    '''\n",
    "    Split the mul_index data into e_a(学歴年齢),year,edu,sex and restore them into a dict,\n",
    "    return is a dict\n",
    "    '''\n",
    "    \n",
    "    #('２０～２４歳', 2009,  9, 1)\n",
    "    \n",
    "    elements_dic = {}\n",
    "    \n",
    "    for item in mul_index:\n",
    "        \n",
    "        e_a,year,edu,sex = item \n",
    "        \n",
    "        if not elements_dic.get(e_a):\n",
    "            elements_dic[e_a] = {}\n",
    "        \n",
    "        if not elements_dic[e_a].get(edu):\n",
    "            elements_dic[e_a][edu] = {}\n",
    "            \n",
    "        if not elements_dic[e_a].get(edu).get(sex):\n",
    "            elements_dic[e_a][edu][sex] = []\n",
    "        \n",
    "        elements_dic[e_a][edu][sex].append(year)\n",
    "    return elements_dic\n",
    "    \n",
    "    "
   ]
  },
  {
   "cell_type": "code",
   "execution_count": 13,
   "id": "83413d41",
   "metadata": {},
   "outputs": [],
   "source": [
    "def find_location_of_filling_data(data,e_a,edu,sex,year):\n",
    "    '''\n",
    "    Find location of null data which are groupby e_a,edu,sex,year and return index\n",
    "    '''\n",
    "    cond = (data['学历年龄']==e_a) & (data['year']==year) & (data['education']==edu) & (data['sex']==sex)\n",
    "    fill_index = data[cond].index\n",
    "    return fill_index"
   ]
  },
  {
   "cell_type": "code",
   "execution_count": 14,
   "id": "139dea6e",
   "metadata": {},
   "outputs": [],
   "source": [
    "def cal_filled_data(data,e_a,edu,sex,year_lis):\n",
    "    '''\n",
    "    calculate averange  of data whose year don't equcal year in year_lis and return a group of data which data format\n",
    "    is list\n",
    "    '''\n",
    "    \n",
    "    for year in year_lis:\n",
    "        \n",
    "        cond = (data['学历年龄']==e_a) & (data['year'] != year) & (data['sex']==sex) & (data['education']==edu)\n",
    "        data = data[cond]\n",
    "    be_filled_data = data.mean()[:-3].values\n",
    "    return be_filled_data"
   ]
  },
  {
   "cell_type": "code",
   "execution_count": 15,
   "id": "cdc55acc",
   "metadata": {},
   "outputs": [],
   "source": [
    "def fill_null_data(mul_index,data):\n",
    "    '''\n",
    "    Fill null data and return a dataframe\n",
    "    \n",
    "    '''\n",
    "    \n",
    "    elements_dic = restore_data_in_dic(mul_index,data)\n",
    "    \n",
    "    for e_a,value in elements_dic.items():\n",
    "        \n",
    "        for edu,item in value.items():\n",
    "            \n",
    "        \n",
    "            for sex,year_lis in item.items():\n",
    "                \n",
    "                \n",
    "                for year in year_lis:\n",
    "\n",
    "                    fill_index = find_location_of_filling_data(data,e_a,edu,sex,year)  #find location of filling data\n",
    "                    \n",
    "                    \n",
    "                    be_filled_data = cal_filled_data(data,e_a,edu,sex,year_lis)  #calculate  data for filling null data\n",
    "                    \n",
    "\n",
    "                    data.iloc[fill_index,1:-3]  = be_filled_data  #fill null data\n",
    "                    \n",
    "                    print('*'*100)\n",
    "                    print('Paragrams for filling null data:')\n",
    "                    print('-'*50)\n",
    "                    print('学历年龄 :',e_a)\n",
    "                    print(f'Sex:{sex}')\n",
    "                    print(f'Education year:{edu}')\n",
    "                    print(f'Year of filling null data:{year_lis}')\n",
    "                    print('-'*50)\n",
    "                    print(f'Fill value is :{be_filled_data}')\n",
    "                    print('-'*50)\n",
    "                    print(f'index location of filling null data:{fill_index}')\n",
    "            \n",
    "                  \n",
    "                    \n",
    "\n",
    "    return data"
   ]
  },
  {
   "cell_type": "code",
   "execution_count": 16,
   "id": "22f7b53f",
   "metadata": {},
   "outputs": [],
   "source": [
    "def cal_x_hat(x,min_range,max_range):\n",
    "    lis = []\n",
    "    if (x < max_range) and (x >= min_range):\n",
    "        lis.append(x)\n",
    "    x_mean = np.mean(lis)\n",
    "    return x_mean"
   ]
  },
  {
   "cell_type": "code",
   "execution_count": 17,
   "id": "9e3bdaff",
   "metadata": {},
   "outputs": [],
   "source": [
    "def cal_x_hat(series,min_range,max_range):\n",
    "    lis = []\n",
    "    for item in series.values:\n",
    "        if (item< max_range) and (item >= min_range):\n",
    "            lis.append(item)\n",
    "    x_mean = np.mean(lis)\n",
    "    return np.around(x_mean,2)"
   ]
  },
  {
   "cell_type": "code",
   "execution_count": 18,
   "id": "a95577c4",
   "metadata": {},
   "outputs": [],
   "source": [
    "def cal_x_hats(data_s):\n",
    "    '''\n",
    "    function for calculating a series of x hat,as a input parameter , data_s must be a Series\n",
    "    return a list containg x hats between 0 and 40\n",
    "    '''\n",
    "    x_range = [item for item in range(0,40,2)]\n",
    "    x_hat_lis = []\n",
    "    for ind in range(len(x_range)-1):\n",
    "        x_hat = cal_x_hat(data_s,x_range[ind],x_range[ind+1])\n",
    "        x_hat_lis.append(x_hat)\n",
    "    x_hat_series = pd.Series(x_hat_lis)\n",
    "    del_index = x_hat_series[x_hat_series.isna()].index\n",
    "    x_hat_series.drop(index = del_index,inplace=True)\n",
    "    \n",
    "    return list(x_hat_series.values)\n",
    "\n",
    "    "
   ]
  },
  {
   "cell_type": "code",
   "execution_count": null,
   "id": "713f9452",
   "metadata": {},
   "outputs": [],
   "source": []
  },
  {
   "cell_type": "code",
   "execution_count": null,
   "id": "00f5ce83",
   "metadata": {},
   "outputs": [],
   "source": []
  },
  {
   "cell_type": "code",
   "execution_count": null,
   "id": "88aed340",
   "metadata": {},
   "outputs": [],
   "source": []
  }
 ],
 "metadata": {
  "kernelspec": {
   "display_name": "Python 3 (ipykernel)",
   "language": "python",
   "name": "python3"
  },
  "language_info": {
   "codemirror_mode": {
    "name": "ipython",
    "version": 3
   },
   "file_extension": ".py",
   "mimetype": "text/x-python",
   "name": "python",
   "nbconvert_exporter": "python",
   "pygments_lexer": "ipython3",
   "version": "3.9.13"
  }
 },
 "nbformat": 4,
 "nbformat_minor": 5
}
